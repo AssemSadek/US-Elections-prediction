{
 "cells": [
  {
   "cell_type": "code",
   "execution_count": 1,
   "metadata": {
    "collapsed": false
   },
   "outputs": [],
   "source": [
    "import graphlab\n",
    "import math"
   ]
  },
  {
   "cell_type": "code",
   "execution_count": 2,
   "metadata": {
    "collapsed": false,
    "scrolled": true
   },
   "outputs": [
    {
     "name": "stdout",
     "output_type": "stream",
     "text": [
      "This non-commercial license of GraphLab Create for academic use is assigned to lana.chafik@gmail.com and will expire on July 25, 2017.\n"
     ]
    },
    {
     "name": "stderr",
     "output_type": "stream",
     "text": [
      "[INFO] graphlab.cython.cy_server: GraphLab Create v2.1 started. Logging: C:\\Users\\LANASH~1\\AppData\\Local\\Temp\\graphlab_server_1494858025.log.0\n"
     ]
    },
    {
     "data": {
      "text/html": [
       "<pre>Finished parsing file C:\\Users\\Lana Shafik\\USelections\\train2016.csv</pre>"
      ],
      "text/plain": [
       "Finished parsing file C:\\Users\\Lana Shafik\\USelections\\train2016.csv"
      ]
     },
     "metadata": {},
     "output_type": "display_data"
    },
    {
     "data": {
      "text/html": [
       "<pre>Parsing completed. Parsed 100 lines in 0.185494 secs.</pre>"
      ],
      "text/plain": [
       "Parsing completed. Parsed 100 lines in 0.185494 secs."
      ]
     },
     "metadata": {},
     "output_type": "display_data"
    },
    {
     "name": "stdout",
     "output_type": "stream",
     "text": [
      "------------------------------------------------------\n",
      "Inferred types from first 100 line(s) of file as \n",
      "column_type_hints=[long,long,str,str,str,str,str,str,str,str,str,str,str,str,str,str,str,str,str,str,str,str,str,str,str,str,str,str,str,str,str,str,str,str,str,str,str,str,str,str,str,str,str,str,str,str,str,str,str,str,str,str,str,str,str,str,str,str,str,str,str,str,str,str,str,str,str,str,str,str,str,str,str,str,str,str,str,str,str,str,str,str,str,str,str,str,str,str,str,str,str,str,str,str,str,str,str,str,str,str,str,str,str,str,str,str,str,str]\n",
      "If parsing fails due to incorrect types, you can correct\n",
      "the inferred type list above and pass it to read_csv in\n",
      "the column_type_hints argument\n",
      "------------------------------------------------------\n"
     ]
    },
    {
     "data": {
      "text/html": [
       "<pre>Finished parsing file C:\\Users\\Lana Shafik\\USelections\\train2016.csv</pre>"
      ],
      "text/plain": [
       "Finished parsing file C:\\Users\\Lana Shafik\\USelections\\train2016.csv"
      ]
     },
     "metadata": {},
     "output_type": "display_data"
    },
    {
     "data": {
      "text/html": [
       "<pre>Parsing completed. Parsed 5568 lines in 0.129344 secs.</pre>"
      ],
      "text/plain": [
       "Parsing completed. Parsed 5568 lines in 0.129344 secs."
      ]
     },
     "metadata": {},
     "output_type": "display_data"
    }
   ],
   "source": [
    "data = graphlab.SFrame.read_csv('train2016.csv/')"
   ]
  },
  {
   "cell_type": "code",
   "execution_count": 3,
   "metadata": {
    "collapsed": false
   },
   "outputs": [
    {
     "name": "stdout",
     "output_type": "stream",
     "text": [
      "['Gender', 'Income', 'HouseholdStatus', 'EducationLevel', 'Q124742', 'Q124122', 'Q123464', 'Q123621', 'Q122769', 'Q122770', 'Q122771', 'Q122120', 'Q121699', 'Q121700', 'Q120978', 'Q121011', 'Q120379', 'Q120650', 'Q120472', 'Q120194', 'Q120012', 'Q120014', 'Q119334', 'Q119851', 'Q119650', 'Q118892', 'Q118117', 'Q118232', 'Q118233', 'Q118237', 'Q117186', 'Q117193', 'Q116797', 'Q116881', 'Q116953', 'Q116601', 'Q116441', 'Q116448', 'Q116197', 'Q115602', 'Q115777', 'Q115610', 'Q115611', 'Q115899', 'Q115390', 'Q114961', 'Q114748', 'Q115195', 'Q114517', 'Q114386', 'Q113992', 'Q114152', 'Q113583', 'Q113584', 'Q113181', 'Q112478', 'Q112512', 'Q112270', 'Q111848', 'Q111580', 'Q111220', 'Q110740', 'Q109367', 'Q108950', 'Q109244', 'Q108855', 'Q108617', 'Q108856', 'Q108754', 'Q108342', 'Q108343', 'Q107869', 'Q107491', 'Q106993', 'Q106997', 'Q106272', 'Q106388', 'Q106389', 'Q106042', 'Q105840', 'Q105655', 'Q104996', 'Q103293', 'Q102906', 'Q102674', 'Q102687', 'Q102289', 'Q102089', 'Q101162', 'Q101163', 'Q101596', 'Q100689', 'Q100680', 'Q100562', 'Q99982', 'Q100010', 'Q99716', 'Q99581', 'Q99480', 'Q98869', 'Q98578', 'Q98059', 'Q98078', 'Q98197', 'Q96024', 'Age']\n",
      "Party\n"
     ]
    }
   ],
   "source": [
    "data['Age'] = data['YOB'].apply(lambda x : 2016 - x)\n",
    "data = data.remove_column('YOB')\n",
    "\n",
    "features = data.column_names()\n",
    "features.remove('Party')\n",
    "features = features[1:]\n",
    "print features\n",
    "initial_features = features \n",
    "target = 'Party'\n",
    "print target"
   ]
  },
  {
   "cell_type": "code",
   "execution_count": 4,
   "metadata": {
    "collapsed": false
   },
   "outputs": [
    {
     "name": "stdout",
     "output_type": "stream",
     "text": [
      "5430\n",
      "18\n",
      "136\n",
      "5422\n",
      "18\n",
      "88\n",
      "5422\n"
     ]
    }
   ],
   "source": [
    "mean = data['Age'].mean()\n",
    "data = data.fillna('Age', mean)\n",
    "new_data = data[data['Age'] >= 18]\n",
    "print len(new_data)\n",
    "print min(new_data['Age'])\n",
    "print max(new_data['Age'])\n",
    "new_data = new_data[new_data['Age'] < 95]\n",
    "print len(new_data)\n",
    "print min(new_data['Age'])\n",
    "print max(new_data['Age'])\n",
    "\n",
    "data = new_data\n",
    "print len(data)\n"
   ]
  },
  {
   "cell_type": "code",
   "execution_count": 5,
   "metadata": {
    "collapsed": false
   },
   "outputs": [
    {
     "name": "stdout",
     "output_type": "stream",
     "text": [
      "[7L, 3L, 1L, 2L, 2L, 1L, 2L, 1L, 2L, 2L, 3L, 3L, 3L, 1L, 3L, 2L, 1L, 3L, 2L, 3L, 1L, 3L, 1L, 1L, 1L, 5L, 5L, 1L, 3L, 2L, 6L, 2L, 4L, 5L, 1L, 3L, 3L, 1L, 2L, 2L, 5L, 2L, 2L, 3L, 4L, 1L, 1L, 1L, 5L, 1L, 2L, 1L, 1L, 5L, 3L, 3L, 6L, 5L, 3L, 2L, 3L, 4L, 2L, 4L, 1L, 4L, 1L, 4L, 3L, 3L, 3L, 1L, 1L, 2L, 1L, 1L, 1L, 4L, 2L, 1L, 4L, 6L, 1L, 1L, 1L, 2L, 4L, 2L, 2L, 1L, 4L, 4L, 2L, 3L, 3L, 3L, 1L, 4L, 2L, 1L, ... ]\n"
     ]
    }
   ],
   "source": [
    "ages = data['Age']\n",
    "l = []\n",
    "\n",
    "for age in ages:\n",
    "    if (age >= 18 and age < 28):\n",
    "        l.append(1)\n",
    "    elif (age >= 28 and age < 38):\n",
    "        l.append(2)\n",
    "    elif (age >= 38 and age < 48):\n",
    "        l.append(3)\n",
    "    elif (age >= 48 and age < 58):\n",
    "        l.append(4)\n",
    "    elif (age >= 58 and age < 68):\n",
    "        l.append(5)\n",
    "    elif (age >= 68 and age < 78):\n",
    "        l.append(6)\n",
    "    else:\n",
    "        l.append(7)\n",
    "        \n",
    "sa = graphlab.SArray(data = l)        \n",
    "\n",
    "data.remove_column('Age')\n",
    "data.add_column(sa, name = 'Age')\n",
    "print data['Age']\n"
   ]
  },
  {
   "cell_type": "code",
   "execution_count": 6,
   "metadata": {
    "collapsed": false
   },
   "outputs": [
    {
     "name": "stdout",
     "output_type": "stream",
     "text": [
      "Percentage of Democrat                 : 0.531907045371\n",
      "Percentage of Republican                : 0.468092954629\n",
      "Total number of data : 5422\n"
     ]
    }
   ],
   "source": [
    "democrat_data = data[data[target] == 'Democrat']\n",
    "republican_data = data[data[target] == 'Republican']\n",
    "print \"Percentage of Democrat                 :\", len(democrat_data) / float(len(data))\n",
    "print \"Percentage of Republican                :\", len(republican_data) / float(len(data))\n",
    "print \"Total number of data :\", len(data)"
   ]
  },
  {
   "cell_type": "code",
   "execution_count": 7,
   "metadata": {
    "collapsed": false
   },
   "outputs": [],
   "source": [
    "for feature in features:\n",
    "    data_one_hot_encoded = data[feature].apply(lambda x: {x: 1})    \n",
    "    data_unpacked = data_one_hot_encoded.unpack(column_name_prefix = feature)\n",
    "    \n",
    "    # Change None's to 0's\n",
    "    for column in data_unpacked.column_names():\n",
    "        data_unpacked[column] = data_unpacked[column].fillna(0)\n",
    "\n",
    "    \n",
    "    data.remove_column(feature)\n",
    "    columns = data_unpacked.column_names()\n",
    "    if columns[0] == feature + '.':\n",
    "        columns.remove(feature + '.')\n",
    "    data.add_columns(data_unpacked[columns])\n"
   ]
  },
  {
   "cell_type": "code",
   "execution_count": 8,
   "metadata": {
    "collapsed": false
   },
   "outputs": [
    {
     "name": "stdout",
     "output_type": "stream",
     "text": [
      "['Gender.Female', 'Gender.Male', 'Income.$100,001 - $150,000', 'Income.$25,001 - $50,000', 'Income.$50,000 - $74,999', 'Income.$75,000 - $100,000', 'Income.over $150,000', 'Income.under $25,000', 'HouseholdStatus.Domestic Partners (no kids)', 'HouseholdStatus.Domestic Partners (w/kids)', 'HouseholdStatus.Married (no kids)', 'HouseholdStatus.Married (w/kids)', 'HouseholdStatus.Single (no kids)', 'HouseholdStatus.Single (w/kids)', \"EducationLevel.Associate's Degree\", \"EducationLevel.Bachelor's Degree\", 'EducationLevel.Current K-12', 'EducationLevel.Current Undergraduate', 'EducationLevel.Doctoral Degree', 'EducationLevel.High School Diploma', \"EducationLevel.Master's Degree\", 'Q124742.No', 'Q124742.Yes', 'Q124122.No', 'Q124122.Yes', 'Q123464.No', 'Q123464.Yes', 'Q123621.No', 'Q123621.Yes', 'Q122769.No', 'Q122769.Yes', 'Q122770.No', 'Q122770.Yes', 'Q122771.Private', 'Q122771.Public', 'Q122120.No', 'Q122120.Yes', 'Q121699.No', 'Q121699.Yes', 'Q121700.No', 'Q121700.Yes', 'Q120978.No', 'Q120978.Yes', 'Q121011.No', 'Q121011.Yes', 'Q120379.No', 'Q120379.Yes', 'Q120650.No', 'Q120650.Yes', 'Q120472.Art', 'Q120472.Science', 'Q120194.Study first', 'Q120194.Try first', 'Q120012.No', 'Q120012.Yes', 'Q120014.No', 'Q120014.Yes', 'Q119334.No', 'Q119334.Yes', 'Q119851.No', 'Q119851.Yes', 'Q119650.Giving', 'Q119650.Receiving', 'Q118892.No', 'Q118892.Yes', 'Q118117.No', 'Q118117.Yes', 'Q118232.Idealist', 'Q118232.Pragmatist', 'Q118233.No', 'Q118233.Yes', 'Q118237.No', 'Q118237.Yes', 'Q117186.Cool headed', 'Q117186.Hot headed', 'Q117193.Odd hours', 'Q117193.Standard hours', 'Q116797.No', 'Q116797.Yes', 'Q116881.Happy', 'Q116881.Right', 'Q116953.No', 'Q116953.Yes', 'Q116601.No', 'Q116601.Yes', 'Q116441.No', 'Q116441.Yes', 'Q116448.No', 'Q116448.Yes', 'Q116197.A.M.', 'Q116197.P.M.', 'Q115602.No', 'Q115602.Yes', 'Q115777.End', 'Q115777.Start', 'Q115610.No', 'Q115610.Yes', 'Q115611.No', 'Q115611.Yes', 'Q115899.Circumstances', 'Q115899.Me', 'Q115390.No', 'Q115390.Yes', 'Q114961.No', 'Q114961.Yes', 'Q114748.No', 'Q114748.Yes', 'Q115195.No', 'Q115195.Yes', 'Q114517.No', 'Q114517.Yes', 'Q114386.Mysterious', 'Q114386.TMI', 'Q113992.No', 'Q113992.Yes', 'Q114152.No', 'Q114152.Yes', 'Q113583.Talk', 'Q113583.Tunes', 'Q113584.People', 'Q113584.Technology', 'Q113181.No', 'Q113181.Yes', 'Q112478.No', 'Q112478.Yes', 'Q112512.No', 'Q112512.Yes', 'Q112270.No', 'Q112270.Yes', 'Q111848.No', 'Q111848.Yes', 'Q111580.Demanding', 'Q111580.Supportive', 'Q111220.No', 'Q111220.Yes', 'Q110740.Mac', 'Q110740.PC', 'Q109367.No', 'Q109367.Yes', 'Q108950.Cautious', 'Q108950.Risk-friendly', 'Q109244.No', 'Q109244.Yes', 'Q108855.Umm...', 'Q108855.Yes!', 'Q108617.No', 'Q108617.Yes', 'Q108856.Socialize', 'Q108856.Space', 'Q108754.No', 'Q108754.Yes', 'Q108342.In-person', 'Q108342.Online', 'Q108343.No', 'Q108343.Yes', 'Q107869.No', 'Q107869.Yes', 'Q107491.No', 'Q107491.Yes', 'Q106993.No', 'Q106993.Yes', 'Q106997.Grrr people', 'Q106997.Yay people!', 'Q106272.No', 'Q106272.Yes', 'Q106388.No', 'Q106388.Yes', 'Q106389.No', 'Q106389.Yes', 'Q106042.No', 'Q106042.Yes', 'Q105840.No', 'Q105840.Yes', 'Q105655.No', 'Q105655.Yes', 'Q104996.No', 'Q104996.Yes', 'Q103293.No', 'Q103293.Yes', 'Q102906.No', 'Q102906.Yes', 'Q102674.No', 'Q102674.Yes', 'Q102687.No', 'Q102687.Yes', 'Q102289.No', 'Q102289.Yes', 'Q102089.Own', 'Q102089.Rent', 'Q101162.Optimist', 'Q101162.Pessimist', 'Q101163.Dad', 'Q101163.Mom', 'Q101596.No', 'Q101596.Yes', 'Q100689.No', 'Q100689.Yes', 'Q100680.No', 'Q100680.Yes', 'Q100562.No', 'Q100562.Yes', 'Q99982.Check!', 'Q99982.Nope', 'Q100010.No', 'Q100010.Yes', 'Q99716.No', 'Q99716.Yes', 'Q99581.No', 'Q99581.Yes', 'Q99480.No', 'Q99480.Yes', 'Q98869.No', 'Q98869.Yes', 'Q98578.No', 'Q98578.Yes', 'Q98059.Only-child', 'Q98059.Yes', 'Q98078.No', 'Q98078.Yes', 'Q98197.No', 'Q98197.Yes', 'Q96024.No', 'Q96024.Yes', 'Age.1', 'Age.2', 'Age.3', 'Age.4', 'Age.5', 'Age.6', 'Age.7']\n"
     ]
    }
   ],
   "source": [
    "features = data.column_names()\n",
    "features.remove('Party')\n",
    "features.remove('USER_ID')\n",
    "#features.remove('YOB') \n",
    "print features\n",
    "#initial_features = features "
   ]
  },
  {
   "cell_type": "code",
   "execution_count": 104,
   "metadata": {
    "collapsed": false
   },
   "outputs": [
    {
     "name": "stdout",
     "output_type": "stream",
     "text": [
      "4166\n",
      "1088\n",
      "2244\n",
      "1922\n"
     ]
    }
   ],
   "source": [
    "train_data, validation_set = data.random_split(.8, seed=1)\n",
    "print len(train_data)\n",
    "print len(validation_set)\n",
    "print len(train_data[train_data['Party'] == 'Democrat'])\n",
    "print len(train_data[train_data['Party'] == 'Republican'])"
   ]
  },
  {
   "cell_type": "code",
   "execution_count": 9,
   "metadata": {
    "collapsed": true
   },
   "outputs": [],
   "source": [
    "def reached_minimum_node_size(data, min_node_size):\n",
    "    # Return True if the number of data points is less than or equal to the minimum node size.\n",
    "    \n",
    "    return len(data) <= min_node_size"
   ]
  },
  {
   "cell_type": "code",
   "execution_count": 10,
   "metadata": {
    "collapsed": true
   },
   "outputs": [],
   "source": [
    "def error_reduction(error_before_split, error_after_split):\n",
    "    error = error_before_split - error_after_split\n",
    "    \n",
    "    return error"
   ]
  },
  {
   "cell_type": "code",
   "execution_count": 11,
   "metadata": {
    "collapsed": true
   },
   "outputs": [],
   "source": [
    "def get_gain(entropy_before_split, entropy_after_split):\n",
    "    # Return the error before the split minus the error after the split.\n",
    "    \n",
    "    gain = entropy_before_split - entropy_after_split\n",
    "    return gain"
   ]
  },
  {
   "cell_type": "code",
   "execution_count": 12,
   "metadata": {
    "collapsed": true
   },
   "outputs": [],
   "source": [
    "def get_entropy(labels_in_node):\n",
    "    if len(labels_in_node) == 0:\n",
    "        return 0\n",
    "    \n",
    "    # Count of democrat examples\n",
    "    democrat = sum(labels_in_node == 'Democrat')\n",
    "    p_democrat = democrat/float(len(labels_in_node))\n",
    "    \n",
    "    # Count of republican examples\n",
    "    republican = sum(labels_in_node == 'Republican')\n",
    "    p_republican = republican/float(len(labels_in_node))\n",
    "    \n",
    "    \n",
    "    if (p_democrat == 0) or (p_republican == 0):\n",
    "        return 0\n",
    "    else:\n",
    "        entropy = -((p_democrat*math.log(p_democrat, 2))+(p_republican*math.log(p_republican, 2)))\n",
    "    \n",
    "    return entropy\n",
    "    "
   ]
  },
  {
   "cell_type": "code",
   "execution_count": 13,
   "metadata": {
    "collapsed": true
   },
   "outputs": [],
   "source": [
    "def intermediate_node_num_mistakes(labels_in_node):\n",
    "    #calculates the number of misclassified examples when predicting the majority class.\n",
    "    \n",
    "    # Corner case: If labels_in_node is empty, return 0\n",
    "    if len(labels_in_node) == 0:\n",
    "        return 0\n",
    "    \n",
    "    # Count of democrat examples\n",
    "    democrat = sum(labels_in_node == 'Democrat')\n",
    "    \n",
    "    # Count of republican examples\n",
    "    republican = sum(labels_in_node == 'Republican')        \n",
    "    \n",
    "    # Return the number of mistakes that the majority classifier makes.\n",
    "    mistakes = min(democrat, republican)\n",
    "    return mistakes"
   ]
  },
  {
   "cell_type": "code",
   "execution_count": 14,
   "metadata": {
    "collapsed": true
   },
   "outputs": [],
   "source": [
    "def best_splitting_feature(data, features, target):\n",
    "    #finds the best feature to split on given the data and a list of features to consider\n",
    "    \n",
    "    best_feature = None     # Keep track of the best feature \n",
    "    best_gain = 0     # Keep track of the best error so far \n",
    "\n",
    "    # Convert to float to make sure error gets computed correctly.\n",
    "    num_data_points = float(len(data))  \n",
    "    \n",
    "    for feature in features:\n",
    "        entropy_before_split = get_entropy(data['Party'])\n",
    "        \n",
    "        # The left split will have all data points where the feature value is 0\n",
    "        left_split = data[data[feature] == 0]\n",
    "        left_entropy = get_entropy(left_split['Party'])\n",
    "        \n",
    "        # The right split will have all data points where the feature value is 1\n",
    "        right_split = data[data[feature] == 1] \n",
    "        right_entropy = get_entropy(right_split['Party'])\n",
    "            \n",
    "        # Calculate the number of misclassified examples in the left split.\n",
    "        #left_mistakes = intermediate_node_num_mistakes(left_split['Party'])           \n",
    "\n",
    "        # Calculate the number of misclassified examples in the right split.\n",
    "        #right_mistakes = intermediate_node_num_mistakes(right_split['Party'])\n",
    "            \n",
    "        entropy_after_split = (len(left_split)/num_data_points) * left_entropy + (len(right_split)/num_data_points) * right_entropy   \n",
    "       \n",
    "        # Compute the classification error of this split.\n",
    "        #error = float(left_mistakes + right_mistakes) / num_data_points\n",
    "        gain = get_gain(entropy_before_split, entropy_after_split)\n",
    "\n",
    "        if gain > best_gain:\n",
    "            best_gain = gain\n",
    "            best_feature = feature\n",
    "    \n",
    "    return best_feature "
   ]
  },
  {
   "cell_type": "code",
   "execution_count": 15,
   "metadata": {
    "collapsed": true
   },
   "outputs": [],
   "source": [
    "def create_leaf(target_values):\n",
    "    \n",
    "    # Create a leaf node\n",
    "    leaf = {'splitting_feature' : None,\n",
    "            'left' : None,\n",
    "            'right' : None,\n",
    "            'is_leaf': True }\n",
    "    \n",
    "    democrat = len(target_values[target_values == 'Democrat'])\n",
    "    republican = len(target_values[target_values == 'Republican'])\n",
    "    \n",
    "    # For the leaf node, set the prediction to be the majority class.\n",
    "    if democrat > republican:\n",
    "        leaf['prediction'] = 'Democrat'       \n",
    "    else:\n",
    "        leaf['prediction'] = 'Republican'     \n",
    "        \n",
    "    return leaf "
   ]
  },
  {
   "cell_type": "code",
   "execution_count": 16,
   "metadata": {
    "collapsed": true
   },
   "outputs": [],
   "source": [
    "def decision_tree_create(data, features, target, current_depth = 0, \n",
    "                         max_depth = 10, min_node_size = 15, \n",
    "                         min_error_reduction = 0.0):\n",
    "    \n",
    "    remaining_features = features[:] \n",
    "    \n",
    "    target_values = data[target]\n",
    "    current_error = intermediate_node_num_mistakes(target_values)\n",
    "    \n",
    "    print \"--------------------------------------------------------------------\"\n",
    "    print \"Subtree, depth = %s (%s data points).\" % (current_depth, len(target_values))\n",
    "    \n",
    "    \n",
    "    # Stopping condition 1: All nodes are of the same type.\n",
    "    if  current_error == 0:\n",
    "        print \"Stopping condition 1 reached. All data points have the same target value.\"                \n",
    "        return create_leaf(target_values)\n",
    "    \n",
    "    # Stopping condition 2: No more features to split on.\n",
    "    if remaining_features == []:\n",
    "        print \"Stopping condition 2 reached. No remaining features.\"                \n",
    "        return create_leaf(target_values)    \n",
    "    \n",
    "    # Early stopping condition 1: Reached max depth limit.\n",
    "    if current_depth >= max_depth:\n",
    "        print \"Early stopping condition 1 reached. Reached maximum depth.\"\n",
    "        return create_leaf(target_values)\n",
    "    \n",
    "    # Early stopping condition 2: Reached the minimum node size.\n",
    "    if reached_minimum_node_size(data, min_node_size): \n",
    "        print \"Early stopping condition 2 reached. Reached minimum node size.\"\n",
    "        return create_leaf(target_values)  \n",
    "    \n",
    "    # Find the best splitting feature.\n",
    "    splitting_feature = best_splitting_feature(data, features, target)\n",
    "    print splitting_feature\n",
    "    \n",
    "    # Split on the best feature that we found. \n",
    "    left_split = data[data[splitting_feature] == 0]\n",
    "    right_split = data[data[splitting_feature] == 1]\n",
    "    \n",
    "    # Calculate the error before splitting\n",
    "    error_before_split = current_error / float(len(data))\n",
    "    \n",
    "    # Calculate the error after splitting\n",
    "    left_mistakes = intermediate_node_num_mistakes(left_split[target]) \n",
    "    right_mistakes = intermediate_node_num_mistakes(right_split[target])\n",
    "    error_after_split = (left_mistakes + right_mistakes) / float(len(data))\n",
    "    \n",
    "    # Early stopping condition 3: Minimum error reduction\n",
    "    '''if error_reduction(error_before_split, error_after_split) <= min_error_reduction:\n",
    "        print \"Early stopping condition 3 reached. Minimum error reduction.\"\n",
    "        return create_leaf(target_values) '''\n",
    "    \n",
    "    \n",
    "    remaining_features.remove(splitting_feature)\n",
    "    print \"Split on feature %s. (%s, %s)\" % (splitting_feature, len(left_split), len(right_split))\n",
    "    \n",
    "    # Repeat on left and right subtrees\n",
    "    left_tree = decision_tree_create(left_split, remaining_features, target, current_depth + 1, max_depth, min_node_size, min_error_reduction)        \n",
    "    right_tree = decision_tree_create(right_split, remaining_features, target, current_depth + 1, max_depth, min_node_size, min_error_reduction)\n",
    "    \n",
    "    return {'is_leaf'          : False, \n",
    "            'prediction'       : None,\n",
    "            'splitting_feature': splitting_feature,\n",
    "            'left'             : left_tree, \n",
    "            'right'            : right_tree}\n",
    "    "
   ]
  },
  {
   "cell_type": "code",
   "execution_count": 119,
   "metadata": {
    "collapsed": false
   },
   "outputs": [
    {
     "name": "stdout",
     "output_type": "stream",
     "text": [
      "--------------------------------------------------------------------\n",
      "Subtree, depth = 0 (4166 data points).\n",
      "Q109244.Yes\n",
      "Split on feature Q109244.Yes. (3448, 718)\n",
      "--------------------------------------------------------------------\n",
      "Subtree, depth = 1 (3448 data points).\n",
      "Q115611.Yes\n",
      "Split on feature Q115611.Yes. (2543, 905)\n",
      "--------------------------------------------------------------------\n",
      "Subtree, depth = 2 (2543 data points).\n",
      "Q98197.Yes\n",
      "Split on feature Q98197.Yes. (2066, 477)\n",
      "--------------------------------------------------------------------\n",
      "Subtree, depth = 3 (2066 data points).\n",
      "Gender.Male\n",
      "Split on feature Gender.Male. (845, 1221)\n",
      "--------------------------------------------------------------------\n",
      "Subtree, depth = 4 (845 data points).\n",
      "Q99480.No\n",
      "Split on feature Q99480.No. (742, 103)\n",
      "--------------------------------------------------------------------\n",
      "Subtree, depth = 5 (742 data points).\n",
      "Q106272.Yes\n",
      "Split on feature Q106272.Yes. (601, 141)\n",
      "--------------------------------------------------------------------\n",
      "Subtree, depth = 6 (601 data points).\n",
      "Q119851.No\n",
      "Split on feature Q119851.No. (443, 158)\n",
      "--------------------------------------------------------------------\n",
      "Subtree, depth = 7 (443 data points).\n",
      "Early stopping condition 1 reached. Reached maximum depth.\n",
      "--------------------------------------------------------------------\n",
      "Subtree, depth = 7 (158 data points).\n",
      "Early stopping condition 1 reached. Reached maximum depth.\n",
      "--------------------------------------------------------------------\n",
      "Subtree, depth = 6 (141 data points).\n",
      "Q98578.Yes\n",
      "Split on feature Q98578.Yes. (112, 29)\n",
      "--------------------------------------------------------------------\n",
      "Subtree, depth = 7 (112 data points).\n",
      "Early stopping condition 1 reached. Reached maximum depth.\n",
      "--------------------------------------------------------------------\n",
      "Subtree, depth = 7 (29 data points).\n",
      "Early stopping condition 1 reached. Reached maximum depth.\n",
      "--------------------------------------------------------------------\n",
      "Subtree, depth = 5 (103 data points).\n",
      "Q113992.Yes\n",
      "Split on feature Q113992.Yes. (93, 10)\n",
      "--------------------------------------------------------------------\n",
      "Subtree, depth = 6 (93 data points).\n",
      "Q108856.Space\n",
      "Split on feature Q108856.Space. (47, 46)\n",
      "--------------------------------------------------------------------\n",
      "Subtree, depth = 7 (47 data points).\n",
      "Early stopping condition 1 reached. Reached maximum depth.\n",
      "--------------------------------------------------------------------\n",
      "Subtree, depth = 7 (46 data points).\n",
      "Early stopping condition 1 reached. Reached maximum depth.\n",
      "--------------------------------------------------------------------\n",
      "Subtree, depth = 6 (10 data points).\n",
      "Early stopping condition 2 reached. Reached minimum node size.\n",
      "--------------------------------------------------------------------\n",
      "Subtree, depth = 4 (1221 data points).\n",
      "Q115390.Yes\n",
      "Split on feature Q115390.Yes. (884, 337)\n",
      "--------------------------------------------------------------------\n",
      "Subtree, depth = 5 (884 data points).\n",
      "HouseholdStatus.Married (w/kids)\n",
      "Split on feature HouseholdStatus.Married (w/kids). (658, 226)\n",
      "--------------------------------------------------------------------\n",
      "Subtree, depth = 6 (658 data points).\n",
      "Q113992.No\n",
      "Split on feature Q113992.No. (525, 133)\n",
      "--------------------------------------------------------------------\n",
      "Subtree, depth = 7 (525 data points).\n",
      "Early stopping condition 1 reached. Reached maximum depth.\n",
      "--------------------------------------------------------------------\n",
      "Subtree, depth = 7 (133 data points).\n",
      "Early stopping condition 1 reached. Reached maximum depth.\n",
      "--------------------------------------------------------------------\n",
      "Subtree, depth = 6 (226 data points).\n",
      "Age.3\n",
      "Split on feature Age.3. (149, 77)\n",
      "--------------------------------------------------------------------\n",
      "Subtree, depth = 7 (149 data points).\n",
      "Early stopping condition 1 reached. Reached maximum depth.\n",
      "--------------------------------------------------------------------\n",
      "Subtree, depth = 7 (77 data points).\n",
      "Early stopping condition 1 reached. Reached maximum depth.\n",
      "--------------------------------------------------------------------\n",
      "Subtree, depth = 5 (337 data points).\n",
      "Q116881.Right\n",
      "Split on feature Q116881.Right. (260, 77)\n",
      "--------------------------------------------------------------------\n",
      "Subtree, depth = 6 (260 data points).\n",
      "Q120194.Try first\n",
      "Split on feature Q120194.Try first. (177, 83)\n",
      "--------------------------------------------------------------------\n",
      "Subtree, depth = 7 (177 data points).\n",
      "Early stopping condition 1 reached. Reached maximum depth.\n",
      "--------------------------------------------------------------------\n",
      "Subtree, depth = 7 (83 data points).\n",
      "Early stopping condition 1 reached. Reached maximum depth.\n",
      "--------------------------------------------------------------------\n",
      "Subtree, depth = 6 (77 data points).\n",
      "Q116448.Yes\n",
      "Split on feature Q116448.Yes. (31, 46)\n",
      "--------------------------------------------------------------------\n",
      "Subtree, depth = 7 (31 data points).\n",
      "Early stopping condition 1 reached. Reached maximum depth.\n",
      "--------------------------------------------------------------------\n",
      "Subtree, depth = 7 (46 data points).\n",
      "Early stopping condition 1 reached. Reached maximum depth.\n",
      "--------------------------------------------------------------------\n",
      "Subtree, depth = 3 (477 data points).\n",
      "HouseholdStatus.Domestic Partners (no kids)\n",
      "Split on feature HouseholdStatus.Domestic Partners (no kids). (464, 13)\n",
      "--------------------------------------------------------------------\n",
      "Subtree, depth = 4 (464 data points).\n",
      "HouseholdStatus.Married (w/kids)\n",
      "Split on feature HouseholdStatus.Married (w/kids). (280, 184)\n",
      "--------------------------------------------------------------------\n",
      "Subtree, depth = 5 (280 data points).\n",
      "Q102674.Yes\n",
      "Split on feature Q102674.Yes. (201, 79)\n",
      "--------------------------------------------------------------------\n",
      "Subtree, depth = 6 (201 data points).\n",
      "Q99480.No\n",
      "Split on feature Q99480.No. (160, 41)\n",
      "--------------------------------------------------------------------\n",
      "Subtree, depth = 7 (160 data points).\n",
      "Early stopping condition 1 reached. Reached maximum depth.\n",
      "--------------------------------------------------------------------\n",
      "Subtree, depth = 7 (41 data points).\n",
      "Early stopping condition 1 reached. Reached maximum depth.\n",
      "--------------------------------------------------------------------\n",
      "Subtree, depth = 6 (79 data points).\n",
      "Q101163.Mom\n",
      "Split on feature Q101163.Mom. (56, 23)\n",
      "--------------------------------------------------------------------\n",
      "Subtree, depth = 7 (56 data points).\n",
      "Early stopping condition 1 reached. Reached maximum depth.\n",
      "--------------------------------------------------------------------\n",
      "Subtree, depth = 7 (23 data points).\n",
      "Early stopping condition 1 reached. Reached maximum depth.\n",
      "--------------------------------------------------------------------\n",
      "Subtree, depth = 5 (184 data points).\n",
      "Q106997.Grrr people\n",
      "Split on feature Q106997.Grrr people. (125, 59)\n",
      "--------------------------------------------------------------------\n",
      "Subtree, depth = 6 (125 data points).\n",
      "Q124122.Yes\n",
      "Split on feature Q124122.Yes. (87, 38)\n",
      "--------------------------------------------------------------------\n",
      "Subtree, depth = 7 (87 data points).\n",
      "Early stopping condition 1 reached. Reached maximum depth.\n",
      "--------------------------------------------------------------------\n",
      "Subtree, depth = 7 (38 data points).\n",
      "Early stopping condition 1 reached. Reached maximum depth.\n",
      "--------------------------------------------------------------------\n",
      "Subtree, depth = 6 (59 data points).\n",
      "EducationLevel.Doctoral Degree\n",
      "Split on feature EducationLevel.Doctoral Degree. (56, 3)\n",
      "--------------------------------------------------------------------\n",
      "Subtree, depth = 7 (56 data points).\n",
      "Early stopping condition 1 reached. Reached maximum depth.\n",
      "--------------------------------------------------------------------\n",
      "Subtree, depth = 7 (3 data points).\n",
      "Stopping condition 1 reached. All data points have the same target value.\n",
      "--------------------------------------------------------------------\n",
      "Subtree, depth = 4 (13 data points).\n",
      "Q116953.Yes\n",
      "Split on feature Q116953.Yes. (3, 10)\n",
      "--------------------------------------------------------------------\n",
      "Subtree, depth = 5 (3 data points).\n",
      "Early stopping condition 2 reached. Reached minimum node size.\n",
      "--------------------------------------------------------------------\n",
      "Subtree, depth = 5 (10 data points).\n",
      "Stopping condition 1 reached. All data points have the same target value.\n",
      "--------------------------------------------------------------------\n",
      "Subtree, depth = 2 (905 data points).\n",
      "Q113181.Yes\n",
      "Split on feature Q113181.Yes. (492, 413)\n",
      "--------------------------------------------------------------------\n",
      "Subtree, depth = 3 (492 data points).\n",
      "Q106272.Yes\n",
      "Split on feature Q106272.Yes. (160, 332)\n",
      "--------------------------------------------------------------------\n",
      "Subtree, depth = 4 (160 data points).\n",
      "Q115390.No\n",
      "Split on feature Q115390.No. (122, 38)\n",
      "--------------------------------------------------------------------\n",
      "Subtree, depth = 5 (122 data points).\n",
      "Q120650.No\n",
      "Split on feature Q120650.No. (114, 8)\n",
      "--------------------------------------------------------------------\n",
      "Subtree, depth = 6 (114 data points).\n",
      "Q114961.No\n",
      "Split on feature Q114961.No. (77, 37)\n",
      "--------------------------------------------------------------------\n",
      "Subtree, depth = 7 (77 data points).\n",
      "Early stopping condition 1 reached. Reached maximum depth.\n",
      "--------------------------------------------------------------------\n",
      "Subtree, depth = 7 (37 data points).\n",
      "Early stopping condition 1 reached. Reached maximum depth.\n",
      "--------------------------------------------------------------------\n",
      "Subtree, depth = 6 (8 data points).\n",
      "Stopping condition 1 reached. All data points have the same target value.\n",
      "--------------------------------------------------------------------\n",
      "Subtree, depth = 5 (38 data points).\n",
      "Q117193.Standard hours\n",
      "Split on feature Q117193.Standard hours. (24, 14)\n",
      "--------------------------------------------------------------------\n",
      "Subtree, depth = 6 (24 data points).\n",
      "Q109367.Yes\n",
      "Split on feature Q109367.Yes. (20, 4)\n",
      "--------------------------------------------------------------------\n",
      "Subtree, depth = 7 (20 data points).\n",
      "Early stopping condition 1 reached. Reached maximum depth.\n",
      "--------------------------------------------------------------------\n",
      "Subtree, depth = 7 (4 data points).\n",
      "Stopping condition 1 reached. All data points have the same target value.\n",
      "--------------------------------------------------------------------\n",
      "Subtree, depth = 6 (14 data points).\n",
      "Stopping condition 1 reached. All data points have the same target value.\n",
      "--------------------------------------------------------------------\n",
      "Subtree, depth = 4 (332 data points).\n",
      "Q114961.Yes\n",
      "Split on feature Q114961.Yes. (149, 183)\n",
      "--------------------------------------------------------------------\n",
      "Subtree, depth = 5 (149 data points).\n",
      "Q119851.Yes\n",
      "Split on feature Q119851.Yes. (105, 44)\n",
      "--------------------------------------------------------------------\n",
      "Subtree, depth = 6 (105 data points).\n",
      "Q114152.No\n",
      "Split on feature Q114152.No. (42, 63)\n",
      "--------------------------------------------------------------------\n",
      "Subtree, depth = 7 (42 data points).\n",
      "Early stopping condition 1 reached. Reached maximum depth.\n",
      "--------------------------------------------------------------------\n",
      "Subtree, depth = 7 (63 data points).\n",
      "Early stopping condition 1 reached. Reached maximum depth.\n",
      "--------------------------------------------------------------------\n",
      "Subtree, depth = 6 (44 data points).\n",
      "EducationLevel.Associate's Degree\n",
      "Split on feature EducationLevel.Associate's Degree. (40, 4)\n",
      "--------------------------------------------------------------------\n",
      "Subtree, depth = 7 (40 data points).\n",
      "Early stopping condition 1 reached. Reached maximum depth.\n",
      "--------------------------------------------------------------------\n",
      "Subtree, depth = 7 (4 data points).\n",
      "Stopping condition 1 reached. All data points have the same target value.\n",
      "--------------------------------------------------------------------\n",
      "Subtree, depth = 5 (183 data points).\n",
      "Q116797.Yes\n",
      "Split on feature Q116797.Yes. (133, 50)\n",
      "--------------------------------------------------------------------\n",
      "Subtree, depth = 6 (133 data points).\n",
      "Q111848.No\n",
      "Split on feature Q111848.No. (77, 56)\n",
      "--------------------------------------------------------------------\n",
      "Subtree, depth = 7 (77 data points).\n",
      "Early stopping condition 1 reached. Reached maximum depth.\n",
      "--------------------------------------------------------------------\n",
      "Subtree, depth = 7 (56 data points).\n",
      "Early stopping condition 1 reached. Reached maximum depth.\n",
      "--------------------------------------------------------------------\n",
      "Subtree, depth = 6 (50 data points).\n",
      "Q102687.No\n",
      "Split on feature Q102687.No. (32, 18)\n",
      "--------------------------------------------------------------------\n",
      "Subtree, depth = 7 (32 data points).\n",
      "Early stopping condition 1 reached. Reached maximum depth.\n",
      "--------------------------------------------------------------------\n",
      "Subtree, depth = 7 (18 data points).\n",
      "Early stopping condition 1 reached. Reached maximum depth.\n",
      "--------------------------------------------------------------------\n",
      "Subtree, depth = 3 (413 data points).\n",
      "EducationLevel.Current K-12\n",
      "Split on feature EducationLevel.Current K-12. (391, 22)\n",
      "--------------------------------------------------------------------\n",
      "Subtree, depth = 4 (391 data points).\n",
      "Q123464.Yes\n",
      "Split on feature Q123464.Yes. (381, 10)\n",
      "--------------------------------------------------------------------\n",
      "Subtree, depth = 5 (381 data points).\n",
      "Age.2\n",
      "Split on feature Age.2. (279, 102)\n",
      "--------------------------------------------------------------------\n",
      "Subtree, depth = 6 (279 data points).\n",
      "Q115195.Yes\n",
      "Split on feature Q115195.Yes. (137, 142)\n",
      "--------------------------------------------------------------------\n",
      "Subtree, depth = 7 (137 data points).\n",
      "Early stopping condition 1 reached. Reached maximum depth.\n",
      "--------------------------------------------------------------------\n",
      "Subtree, depth = 7 (142 data points).\n",
      "Early stopping condition 1 reached. Reached maximum depth.\n",
      "--------------------------------------------------------------------\n",
      "Subtree, depth = 6 (102 data points).\n",
      "Q113584.Technology\n",
      "Split on feature Q113584.Technology. (70, 32)\n",
      "--------------------------------------------------------------------\n",
      "Subtree, depth = 7 (70 data points).\n",
      "Early stopping condition 1 reached. Reached maximum depth.\n",
      "--------------------------------------------------------------------\n",
      "Subtree, depth = 7 (32 data points).\n",
      "Early stopping condition 1 reached. Reached maximum depth.\n",
      "--------------------------------------------------------------------\n",
      "Subtree, depth = 5 (10 data points).\n",
      "Stopping condition 1 reached. All data points have the same target value.\n",
      "--------------------------------------------------------------------\n",
      "Subtree, depth = 4 (22 data points).\n",
      "Stopping condition 1 reached. All data points have the same target value.\n",
      "--------------------------------------------------------------------\n",
      "Subtree, depth = 1 (718 data points).\n",
      "Q118232.Idealist\n",
      "Split on feature Q118232.Idealist. (485, 233)\n",
      "--------------------------------------------------------------------\n",
      "Subtree, depth = 2 (485 data points).\n",
      "EducationLevel.Master's Degree\n",
      "Split on feature EducationLevel.Master's Degree. (408, 77)\n",
      "--------------------------------------------------------------------\n",
      "Subtree, depth = 3 (408 data points).\n",
      "Q122771.Private\n",
      "Split on feature Q122771.Private. (351, 57)\n",
      "--------------------------------------------------------------------\n",
      "Subtree, depth = 4 (351 data points).\n",
      "Q123464.No\n",
      "Split on feature Q123464.No. (140, 211)\n",
      "--------------------------------------------------------------------\n",
      "Subtree, depth = 5 (140 data points).\n",
      "Q122120.No\n",
      "Split on feature Q122120.No. (103, 37)\n",
      "--------------------------------------------------------------------\n",
      "Subtree, depth = 6 (103 data points).\n",
      "Q118117.Yes\n",
      "Split on feature Q118117.Yes. (85, 18)\n",
      "--------------------------------------------------------------------\n",
      "Subtree, depth = 7 (85 data points).\n",
      "Early stopping condition 1 reached. Reached maximum depth.\n",
      "--------------------------------------------------------------------\n",
      "Subtree, depth = 7 (18 data points).\n",
      "Early stopping condition 1 reached. Reached maximum depth.\n",
      "--------------------------------------------------------------------\n",
      "Subtree, depth = 6 (37 data points).\n",
      "Q108754.No\n",
      "Split on feature Q108754.No. (16, 21)\n",
      "--------------------------------------------------------------------\n",
      "Subtree, depth = 7 (16 data points).\n",
      "Early stopping condition 1 reached. Reached maximum depth.\n",
      "--------------------------------------------------------------------\n",
      "Subtree, depth = 7 (21 data points).\n",
      "Early stopping condition 1 reached. Reached maximum depth.\n",
      "--------------------------------------------------------------------\n",
      "Subtree, depth = 5 (211 data points).\n",
      "EducationLevel.Doctoral Degree\n",
      "Split on feature EducationLevel.Doctoral Degree. (194, 17)\n",
      "--------------------------------------------------------------------\n",
      "Subtree, depth = 6 (194 data points).\n",
      "Q107491.Yes\n",
      "Split on feature Q107491.Yes. (35, 159)\n",
      "--------------------------------------------------------------------\n",
      "Subtree, depth = 7 (35 data points).\n",
      "Early stopping condition 1 reached. Reached maximum depth.\n",
      "--------------------------------------------------------------------\n",
      "Subtree, depth = 7 (159 data points).\n",
      "Early stopping condition 1 reached. Reached maximum depth.\n",
      "--------------------------------------------------------------------\n",
      "Subtree, depth = 6 (17 data points).\n",
      "Stopping condition 1 reached. All data points have the same target value.\n",
      "--------------------------------------------------------------------\n",
      "Subtree, depth = 4 (57 data points).\n",
      "Q119334.Yes\n",
      "Split on feature Q119334.Yes. (28, 29)\n",
      "--------------------------------------------------------------------\n",
      "Subtree, depth = 5 (28 data points).\n",
      "Q118233.No\n",
      "Split on feature Q118233.No. (16, 12)\n",
      "--------------------------------------------------------------------\n",
      "Subtree, depth = 6 (16 data points).\n",
      "Q102289.No\n",
      "Split on feature Q102289.No. (5, 11)\n",
      "--------------------------------------------------------------------\n",
      "Subtree, depth = 7 (5 data points).\n",
      "Early stopping condition 1 reached. Reached maximum depth.\n",
      "--------------------------------------------------------------------\n",
      "Subtree, depth = 7 (11 data points).\n",
      "Stopping condition 1 reached. All data points have the same target value.\n",
      "--------------------------------------------------------------------\n",
      "Subtree, depth = 6 (12 data points).\n",
      "Q124122.Yes\n",
      "Split on feature Q124122.Yes. (4, 8)\n",
      "--------------------------------------------------------------------\n",
      "Subtree, depth = 7 (4 data points).\n",
      "Early stopping condition 1 reached. Reached maximum depth.\n",
      "--------------------------------------------------------------------\n",
      "Subtree, depth = 7 (8 data points).\n",
      "Stopping condition 1 reached. All data points have the same target value.\n",
      "--------------------------------------------------------------------\n",
      "Subtree, depth = 5 (29 data points).\n",
      "Q112478.Yes\n",
      "Split on feature Q112478.Yes. (14, 15)\n",
      "--------------------------------------------------------------------\n",
      "Subtree, depth = 6 (14 data points).\n",
      "Q122120.No\n",
      "Split on feature Q122120.No. (6, 8)\n",
      "--------------------------------------------------------------------\n",
      "Subtree, depth = 7 (6 data points).\n",
      "Stopping condition 1 reached. All data points have the same target value.\n",
      "--------------------------------------------------------------------\n",
      "Subtree, depth = 7 (8 data points).\n",
      "Early stopping condition 1 reached. Reached maximum depth.\n",
      "--------------------------------------------------------------------\n",
      "Subtree, depth = 6 (15 data points).\n",
      "Stopping condition 1 reached. All data points have the same target value.\n",
      "--------------------------------------------------------------------\n",
      "Subtree, depth = 3 (77 data points).\n",
      "Q123621.No\n",
      "Split on feature Q123621.No. (56, 21)\n",
      "--------------------------------------------------------------------\n",
      "Subtree, depth = 4 (56 data points).\n",
      "Q102289.Yes\n",
      "Split on feature Q102289.Yes. (43, 13)\n",
      "--------------------------------------------------------------------\n",
      "Subtree, depth = 5 (43 data points).\n",
      "Q122769.Yes\n",
      "Split on feature Q122769.Yes. (34, 9)\n",
      "--------------------------------------------------------------------\n",
      "Subtree, depth = 6 (34 data points).\n",
      "Q98578.Yes\n",
      "Split on feature Q98578.Yes. (27, 7)\n",
      "--------------------------------------------------------------------\n",
      "Subtree, depth = 7 (27 data points).\n",
      "Early stopping condition 1 reached. Reached maximum depth.\n",
      "--------------------------------------------------------------------\n",
      "Subtree, depth = 7 (7 data points).\n",
      "Early stopping condition 1 reached. Reached maximum depth.\n",
      "--------------------------------------------------------------------\n",
      "Subtree, depth = 6 (9 data points).\n",
      "Early stopping condition 2 reached. Reached minimum node size.\n",
      "--------------------------------------------------------------------\n",
      "Subtree, depth = 5 (13 data points).\n",
      "Stopping condition 1 reached. All data points have the same target value.\n",
      "--------------------------------------------------------------------\n",
      "Subtree, depth = 4 (21 data points).\n",
      "Stopping condition 1 reached. All data points have the same target value.\n",
      "--------------------------------------------------------------------\n",
      "Subtree, depth = 2 (233 data points).\n",
      "Q112512.Yes\n",
      "Split on feature Q112512.Yes. (67, 166)\n",
      "--------------------------------------------------------------------\n",
      "Subtree, depth = 3 (67 data points).\n",
      "HouseholdStatus.Married (no kids)\n",
      "Split on feature HouseholdStatus.Married (no kids). (58, 9)\n",
      "--------------------------------------------------------------------\n",
      "Subtree, depth = 4 (58 data points).\n",
      "Stopping condition 1 reached. All data points have the same target value.\n",
      "--------------------------------------------------------------------\n",
      "Subtree, depth = 4 (9 data points).\n",
      "Early stopping condition 2 reached. Reached minimum node size.\n",
      "--------------------------------------------------------------------\n",
      "Subtree, depth = 3 (166 data points).\n",
      "EducationLevel.Doctoral Degree\n",
      "Split on feature EducationLevel.Doctoral Degree. (155, 11)\n",
      "--------------------------------------------------------------------\n",
      "Subtree, depth = 4 (155 data points).\n",
      "Q121699.No\n",
      "Split on feature Q121699.No. (128, 27)\n",
      "--------------------------------------------------------------------\n",
      "Subtree, depth = 5 (128 data points).\n",
      "Q114748.No\n",
      "Split on feature Q114748.No. (85, 43)\n",
      "--------------------------------------------------------------------\n",
      "Subtree, depth = 6 (85 data points).\n",
      "Q113583.Tunes\n",
      "Split on feature Q113583.Tunes. (30, 55)\n",
      "--------------------------------------------------------------------\n",
      "Subtree, depth = 7 (30 data points).\n",
      "Early stopping condition 1 reached. Reached maximum depth.\n",
      "--------------------------------------------------------------------\n",
      "Subtree, depth = 7 (55 data points).\n",
      "Early stopping condition 1 reached. Reached maximum depth.\n",
      "--------------------------------------------------------------------\n",
      "Subtree, depth = 6 (43 data points).\n",
      "Q121699.Yes\n",
      "Split on feature Q121699.Yes. (1, 42)\n",
      "--------------------------------------------------------------------\n",
      "Subtree, depth = 7 (1 data points).\n",
      "Stopping condition 1 reached. All data points have the same target value.\n",
      "--------------------------------------------------------------------\n",
      "Subtree, depth = 7 (42 data points).\n",
      "Stopping condition 1 reached. All data points have the same target value.\n",
      "--------------------------------------------------------------------\n",
      "Subtree, depth = 5 (27 data points).\n",
      "Q106042.No\n",
      "Split on feature Q106042.No. (18, 9)\n",
      "--------------------------------------------------------------------\n",
      "Subtree, depth = 6 (18 data points).\n",
      "Q115610.Yes\n",
      "Split on feature Q115610.Yes. (2, 16)\n",
      "--------------------------------------------------------------------\n",
      "Subtree, depth = 7 (2 data points).\n",
      "Stopping condition 1 reached. All data points have the same target value.\n",
      "--------------------------------------------------------------------\n",
      "Subtree, depth = 7 (16 data points).\n",
      "Stopping condition 1 reached. All data points have the same target value.\n",
      "--------------------------------------------------------------------\n",
      "Subtree, depth = 6 (9 data points).\n",
      "Early stopping condition 2 reached. Reached minimum node size.\n",
      "--------------------------------------------------------------------\n",
      "Subtree, depth = 4 (11 data points).\n",
      "Q115390.Yes\n",
      "Split on feature Q115390.Yes. (6, 5)\n",
      "--------------------------------------------------------------------\n",
      "Subtree, depth = 5 (6 data points).\n",
      "Early stopping condition 2 reached. Reached minimum node size.\n",
      "--------------------------------------------------------------------\n",
      "Subtree, depth = 5 (5 data points).\n",
      "Stopping condition 1 reached. All data points have the same target value.\n"
     ]
    }
   ],
   "source": [
    "#decision_tree = decision_tree_create(train_data, features, 'Party')\n",
    "for i in range"
   ]
  },
  {
   "cell_type": "code",
   "execution_count": 120,
   "metadata": {
    "collapsed": true
   },
   "outputs": [],
   "source": [
    "def classify(tree, example):   \n",
    "    if tree['is_leaf']:\n",
    "        return tree['prediction'] \n",
    "    else:\n",
    "        # split on feature.\n",
    "        split_feature_value = example[tree['splitting_feature']]\n",
    "        \n",
    "        if split_feature_value == 0:\n",
    "            return classify(tree['left'], example)\n",
    "        else:\n",
    "            return classify(tree['right'], example)"
   ]
  },
  {
   "cell_type": "code",
   "execution_count": 121,
   "metadata": {
    "collapsed": false
   },
   "outputs": [],
   "source": [
    "def evaluate_classification_error(tree, data):\n",
    "    \n",
    "    predictions = data.apply(lambda x: classify(tree, x))\n",
    "    #print predictions\n",
    "    #print data['Party']\n",
    "    \n",
    "    \n",
    "    #print data['Party'] != predictions\n",
    "    mistakes = data['Party'] != predictions\n",
    "    error = mistakes.sum() /  float(len(data))  \n",
    "    return error"
   ]
  },
  {
   "cell_type": "code",
   "execution_count": 122,
   "metadata": {
    "collapsed": false
   },
   "outputs": [
    {
     "name": "stdout",
     "output_type": "stream",
     "text": [
      "0.325492078733\n",
      "0.433823529412\n"
     ]
    }
   ],
   "source": [
    "error_train = evaluate_classification_error(decision_tree, train_data)\n",
    "print error_train\n",
    "error_validation = evaluate_classification_error(decision_tree, validation_set)\n",
    "print error_validation"
   ]
  },
  {
   "cell_type": "code",
   "execution_count": 44,
   "metadata": {
    "collapsed": false
   },
   "outputs": [
    {
     "data": {
      "text/html": [
       "<pre>Finished parsing file C:\\Users\\Lana Shafik\\USelections\\test2016.csv</pre>"
      ],
      "text/plain": [
       "Finished parsing file C:\\Users\\Lana Shafik\\USelections\\test2016.csv"
      ]
     },
     "metadata": {},
     "output_type": "display_data"
    },
    {
     "data": {
      "text/html": [
       "<pre>Parsing completed. Parsed 100 lines in 0.061683 secs.</pre>"
      ],
      "text/plain": [
       "Parsing completed. Parsed 100 lines in 0.061683 secs."
      ]
     },
     "metadata": {},
     "output_type": "display_data"
    },
    {
     "name": "stdout",
     "output_type": "stream",
     "text": [
      "------------------------------------------------------\n",
      "Inferred types from first 100 line(s) of file as \n",
      "column_type_hints=[long,long,str,str,str,str,str,str,str,str,str,str,str,str,str,str,str,str,str,str,str,str,str,str,str,str,str,str,str,str,str,str,str,str,str,str,str,str,str,str,str,str,str,str,str,str,str,str,str,str,str,str,str,str,str,str,str,str,str,str,str,str,str,str,str,str,str,str,str,str,str,str,str,str,str,str,str,str,str,str,str,str,str,str,str,str,str,str,str,str,str,str,str,str,str,str,str,str,str,str,str,str,str,str,str,str,str]\n",
      "If parsing fails due to incorrect types, you can correct\n",
      "the inferred type list above and pass it to read_csv in\n",
      "the column_type_hints argument\n",
      "------------------------------------------------------\n"
     ]
    },
    {
     "data": {
      "text/html": [
       "<pre>Finished parsing file C:\\Users\\Lana Shafik\\USelections\\test2016.csv</pre>"
      ],
      "text/plain": [
       "Finished parsing file C:\\Users\\Lana Shafik\\USelections\\test2016.csv"
      ]
     },
     "metadata": {},
     "output_type": "display_data"
    },
    {
     "data": {
      "text/html": [
       "<pre>Parsing completed. Parsed 1392 lines in 0.04688 secs.</pre>"
      ],
      "text/plain": [
       "Parsing completed. Parsed 1392 lines in 0.04688 secs."
      ]
     },
     "metadata": {},
     "output_type": "display_data"
    }
   ],
   "source": [
    "test_set = graphlab.SFrame.read_csv('test2016.csv/')\n",
    "#test_set.column_names()"
   ]
  },
  {
   "cell_type": "code",
   "execution_count": 45,
   "metadata": {
    "collapsed": false
   },
   "outputs": [
    {
     "data": {
      "text/html": [
       "<pre>Finished parsing file C:\\Users\\Lana Shafik\\USelections\\sampleSubmission2016.csv</pre>"
      ],
      "text/plain": [
       "Finished parsing file C:\\Users\\Lana Shafik\\USelections\\sampleSubmission2016.csv"
      ]
     },
     "metadata": {},
     "output_type": "display_data"
    },
    {
     "data": {
      "text/html": [
       "<pre>Parsing completed. Parsed 100 lines in 0.02607 secs.</pre>"
      ],
      "text/plain": [
       "Parsing completed. Parsed 100 lines in 0.02607 secs."
      ]
     },
     "metadata": {},
     "output_type": "display_data"
    },
    {
     "name": "stdout",
     "output_type": "stream",
     "text": [
      "------------------------------------------------------\n",
      "Inferred types from first 100 line(s) of file as \n",
      "column_type_hints=[long,str]\n",
      "If parsing fails due to incorrect types, you can correct\n",
      "the inferred type list above and pass it to read_csv in\n",
      "the column_type_hints argument\n",
      "------------------------------------------------------\n"
     ]
    },
    {
     "data": {
      "text/html": [
       "<pre>Finished parsing file C:\\Users\\Lana Shafik\\USelections\\sampleSubmission2016.csv</pre>"
      ],
      "text/plain": [
       "Finished parsing file C:\\Users\\Lana Shafik\\USelections\\sampleSubmission2016.csv"
      ]
     },
     "metadata": {},
     "output_type": "display_data"
    },
    {
     "data": {
      "text/html": [
       "<pre>Parsing completed. Parsed 1392 lines in 0.023056 secs.</pre>"
      ],
      "text/plain": [
       "Parsing completed. Parsed 1392 lines in 0.023056 secs."
      ]
     },
     "metadata": {},
     "output_type": "display_data"
    },
    {
     "data": {
      "text/html": [
       "<div style=\"max-height:1000px;max-width:1500px;overflow:auto;\"><table frame=\"box\" rules=\"cols\">\n",
       "    <tr>\n",
       "        <th style=\"padding-left: 1em; padding-right: 1em; text-align: center\">Party</th>\n",
       "    </tr>\n",
       "    <tr>\n",
       "        <td style=\"padding-left: 1em; padding-right: 1em; text-align: center; vertical-align: top\">Democrat</td>\n",
       "    </tr>\n",
       "    <tr>\n",
       "        <td style=\"padding-left: 1em; padding-right: 1em; text-align: center; vertical-align: top\">Republican</td>\n",
       "    </tr>\n",
       "    <tr>\n",
       "        <td style=\"padding-left: 1em; padding-right: 1em; text-align: center; vertical-align: top\">Republican</td>\n",
       "    </tr>\n",
       "    <tr>\n",
       "        <td style=\"padding-left: 1em; padding-right: 1em; text-align: center; vertical-align: top\">Democrat</td>\n",
       "    </tr>\n",
       "    <tr>\n",
       "        <td style=\"padding-left: 1em; padding-right: 1em; text-align: center; vertical-align: top\">Democrat</td>\n",
       "    </tr>\n",
       "    <tr>\n",
       "        <td style=\"padding-left: 1em; padding-right: 1em; text-align: center; vertical-align: top\">Republican</td>\n",
       "    </tr>\n",
       "    <tr>\n",
       "        <td style=\"padding-left: 1em; padding-right: 1em; text-align: center; vertical-align: top\">Democrat</td>\n",
       "    </tr>\n",
       "    <tr>\n",
       "        <td style=\"padding-left: 1em; padding-right: 1em; text-align: center; vertical-align: top\">Republican</td>\n",
       "    </tr>\n",
       "    <tr>\n",
       "        <td style=\"padding-left: 1em; padding-right: 1em; text-align: center; vertical-align: top\">Democrat</td>\n",
       "    </tr>\n",
       "    <tr>\n",
       "        <td style=\"padding-left: 1em; padding-right: 1em; text-align: center; vertical-align: top\">Democrat</td>\n",
       "    </tr>\n",
       "</table>\n",
       "[1392 rows x 1 columns]<br/>Note: Only the head of the SFrame is printed.<br/>You can use print_rows(num_rows=m, num_columns=n) to print more rows and columns.\n",
       "</div>"
      ],
      "text/plain": [
       "Columns:\n",
       "\tParty\tstr\n",
       "\n",
       "Rows: 1392\n",
       "\n",
       "Data:\n",
       "+------------+\n",
       "|   Party    |\n",
       "+------------+\n",
       "|  Democrat  |\n",
       "| Republican |\n",
       "| Republican |\n",
       "|  Democrat  |\n",
       "|  Democrat  |\n",
       "| Republican |\n",
       "|  Democrat  |\n",
       "| Republican |\n",
       "|  Democrat  |\n",
       "|  Democrat  |\n",
       "+------------+\n",
       "[1392 rows x 1 columns]\n",
       "Note: Only the head of the SFrame is printed.\n",
       "You can use print_rows(num_rows=m, num_columns=n) to print more rows and columns."
      ]
     },
     "execution_count": 45,
     "metadata": {},
     "output_type": "execute_result"
    }
   ],
   "source": [
    "result = graphlab.SFrame.read_csv('sampleSubmission2016.csv/')\n",
    "result_frame = graphlab.SFrame(result['Predictions'])\n",
    "result_frame.rename({'X1': 'Party'})\n",
    "result_frame"
   ]
  },
  {
   "cell_type": "code",
   "execution_count": 46,
   "metadata": {
    "collapsed": false
   },
   "outputs": [
    {
     "data": {
      "text/plain": [
       "['USER_ID',\n",
       " 'YOB',\n",
       " 'Gender',\n",
       " 'Income',\n",
       " 'HouseholdStatus',\n",
       " 'EducationLevel',\n",
       " 'Q124742',\n",
       " 'Q124122',\n",
       " 'Q123464',\n",
       " 'Q123621',\n",
       " 'Q122769',\n",
       " 'Q122770',\n",
       " 'Q122771',\n",
       " 'Q122120',\n",
       " 'Q121699',\n",
       " 'Q121700',\n",
       " 'Q120978',\n",
       " 'Q121011',\n",
       " 'Q120379',\n",
       " 'Q120650',\n",
       " 'Q120472',\n",
       " 'Q120194',\n",
       " 'Q120012',\n",
       " 'Q120014',\n",
       " 'Q119334',\n",
       " 'Q119851',\n",
       " 'Q119650',\n",
       " 'Q118892',\n",
       " 'Q118117',\n",
       " 'Q118232',\n",
       " 'Q118233',\n",
       " 'Q118237',\n",
       " 'Q117186',\n",
       " 'Q117193',\n",
       " 'Q116797',\n",
       " 'Q116881',\n",
       " 'Q116953',\n",
       " 'Q116601',\n",
       " 'Q116441',\n",
       " 'Q116448',\n",
       " 'Q116197',\n",
       " 'Q115602',\n",
       " 'Q115777',\n",
       " 'Q115610',\n",
       " 'Q115611',\n",
       " 'Q115899',\n",
       " 'Q115390',\n",
       " 'Q114961',\n",
       " 'Q114748',\n",
       " 'Q115195',\n",
       " 'Q114517',\n",
       " 'Q114386',\n",
       " 'Q113992',\n",
       " 'Q114152',\n",
       " 'Q113583',\n",
       " 'Q113584',\n",
       " 'Q113181',\n",
       " 'Q112478',\n",
       " 'Q112512',\n",
       " 'Q112270',\n",
       " 'Q111848',\n",
       " 'Q111580',\n",
       " 'Q111220',\n",
       " 'Q110740',\n",
       " 'Q109367',\n",
       " 'Q108950',\n",
       " 'Q109244',\n",
       " 'Q108855',\n",
       " 'Q108617',\n",
       " 'Q108856',\n",
       " 'Q108754',\n",
       " 'Q108342',\n",
       " 'Q108343',\n",
       " 'Q107869',\n",
       " 'Q107491',\n",
       " 'Q106993',\n",
       " 'Q106997',\n",
       " 'Q106272',\n",
       " 'Q106388',\n",
       " 'Q106389',\n",
       " 'Q106042',\n",
       " 'Q105840',\n",
       " 'Q105655',\n",
       " 'Q104996',\n",
       " 'Q103293',\n",
       " 'Q102906',\n",
       " 'Q102674',\n",
       " 'Q102687',\n",
       " 'Q102289',\n",
       " 'Q102089',\n",
       " 'Q101162',\n",
       " 'Q101163',\n",
       " 'Q101596',\n",
       " 'Q100689',\n",
       " 'Q100680',\n",
       " 'Q100562',\n",
       " 'Q99982',\n",
       " 'Q100010',\n",
       " 'Q99716',\n",
       " 'Q99581',\n",
       " 'Q99480',\n",
       " 'Q98869',\n",
       " 'Q98578',\n",
       " 'Q98059',\n",
       " 'Q98078',\n",
       " 'Q98197',\n",
       " 'Q96024',\n",
       " 'Party']"
      ]
     },
     "execution_count": 46,
     "metadata": {},
     "output_type": "execute_result"
    }
   ],
   "source": [
    "test_set.add_columns(result_frame)\n",
    "test_set.column_names()"
   ]
  },
  {
   "cell_type": "code",
   "execution_count": 47,
   "metadata": {
    "collapsed": false
   },
   "outputs": [],
   "source": [
    "for feature in initial_features:\n",
    "    test_one_hot_encoded = test_set[feature].apply(lambda x: {x: 1})    \n",
    "    test_unpacked = test_one_hot_encoded.unpack(column_name_prefix = feature)\n",
    "    \n",
    "    # Change None's to 0's\n",
    "    for column in test_unpacked.column_names():\n",
    "        test_unpacked[column] = test_unpacked[column].fillna(0)\n",
    "\n",
    "    \n",
    "    test_set.remove_column(feature)\n",
    "    columns = test_unpacked.column_names()\n",
    "    columns.remove(feature + '.')\n",
    "    test_set.add_columns(test_unpacked[columns])"
   ]
  },
  {
   "cell_type": "code",
   "execution_count": 48,
   "metadata": {
    "collapsed": false
   },
   "outputs": [
    {
     "data": {
      "text/plain": [
       "226"
      ]
     },
     "execution_count": 48,
     "metadata": {},
     "output_type": "execute_result"
    }
   ],
   "source": [
    "len(test_set.column_names())"
   ]
  },
  {
   "cell_type": "code",
   "execution_count": 50,
   "metadata": {
    "collapsed": false
   },
   "outputs": [
    {
     "name": "stdout",
     "output_type": "stream",
     "text": [
      "0.404454022989\n"
     ]
    }
   ],
   "source": [
    "error = evaluate_classification_error(decision_tree, test_set)\n",
    "print error"
   ]
  },
  {
   "cell_type": "code",
   "execution_count": null,
   "metadata": {
    "collapsed": true
   },
   "outputs": [],
   "source": []
  }
 ],
 "metadata": {
  "kernelspec": {
   "display_name": "Python 2",
   "language": "python",
   "name": "python2"
  },
  "language_info": {
   "codemirror_mode": {
    "name": "ipython",
    "version": 2
   },
   "file_extension": ".py",
   "mimetype": "text/x-python",
   "name": "python",
   "nbconvert_exporter": "python",
   "pygments_lexer": "ipython2",
   "version": "2.7.11"
  }
 },
 "nbformat": 4,
 "nbformat_minor": 0
}
