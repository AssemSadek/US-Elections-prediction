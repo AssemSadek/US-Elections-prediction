{
 "cells": [
  {
   "cell_type": "code",
   "execution_count": 1,
   "metadata": {
    "collapsed": true
   },
   "outputs": [],
   "source": [
    "import graphlab"
   ]
  },
  {
   "cell_type": "code",
   "execution_count": 2,
   "metadata": {
    "collapsed": false
   },
   "outputs": [
    {
     "name": "stdout",
     "output_type": "stream",
     "text": [
      "This non-commercial license of GraphLab Create for academic use is assigned to lana.chafik@gmail.com and will expire on July 25, 2017.\n"
     ]
    },
    {
     "name": "stderr",
     "output_type": "stream",
     "text": [
      "[INFO] graphlab.cython.cy_server: GraphLab Create v2.1 started. Logging: C:\\Users\\LANASH~1\\AppData\\Local\\Temp\\graphlab_server_1494067377.log.0\n"
     ]
    },
    {
     "data": {
      "text/html": [
       "<pre>Finished parsing file C:\\Users\\Lana Shafik\\USelections\\train2016.csv</pre>"
      ],
      "text/plain": [
       "Finished parsing file C:\\Users\\Lana Shafik\\USelections\\train2016.csv"
      ]
     },
     "metadata": {},
     "output_type": "display_data"
    },
    {
     "data": {
      "text/html": [
       "<pre>Parsing completed. Parsed 100 lines in 0.247654 secs.</pre>"
      ],
      "text/plain": [
       "Parsing completed. Parsed 100 lines in 0.247654 secs."
      ]
     },
     "metadata": {},
     "output_type": "display_data"
    },
    {
     "name": "stdout",
     "output_type": "stream",
     "text": [
      "------------------------------------------------------\n",
      "Inferred types from first 100 line(s) of file as \n",
      "column_type_hints=[long,long,str,str,str,str,str,str,str,str,str,str,str,str,str,str,str,str,str,str,str,str,str,str,str,str,str,str,str,str,str,str,str,str,str,str,str,str,str,str,str,str,str,str,str,str,str,str,str,str,str,str,str,str,str,str,str,str,str,str,str,str,str,str,str,str,str,str,str,str,str,str,str,str,str,str,str,str,str,str,str,str,str,str,str,str,str,str,str,str,str,str,str,str,str,str,str,str,str,str,str,str,str,str,str,str,str,str]\n",
      "If parsing fails due to incorrect types, you can correct\n",
      "the inferred type list above and pass it to read_csv in\n",
      "the column_type_hints argument\n",
      "------------------------------------------------------\n"
     ]
    },
    {
     "data": {
      "text/html": [
       "<pre>Finished parsing file C:\\Users\\Lana Shafik\\USelections\\train2016.csv</pre>"
      ],
      "text/plain": [
       "Finished parsing file C:\\Users\\Lana Shafik\\USelections\\train2016.csv"
      ]
     },
     "metadata": {},
     "output_type": "display_data"
    },
    {
     "data": {
      "text/html": [
       "<pre>Parsing completed. Parsed 5568 lines in 0.122326 secs.</pre>"
      ],
      "text/plain": [
       "Parsing completed. Parsed 5568 lines in 0.122326 secs."
      ]
     },
     "metadata": {},
     "output_type": "display_data"
    }
   ],
   "source": [
    "data = graphlab.SFrame.read_csv('train2016.csv/')"
   ]
  },
  {
   "cell_type": "code",
   "execution_count": 5,
   "metadata": {
    "collapsed": false
   },
   "outputs": [
    {
     "data": {
      "text/plain": [
       "['USER_ID',\n",
       " 'YOB',\n",
       " 'Gender',\n",
       " 'Income',\n",
       " 'HouseholdStatus',\n",
       " 'EducationLevel',\n",
       " 'Q124742',\n",
       " 'Q124122',\n",
       " 'Q123464',\n",
       " 'Q123621',\n",
       " 'Q122769',\n",
       " 'Q122770',\n",
       " 'Q122771',\n",
       " 'Q122120',\n",
       " 'Q121699',\n",
       " 'Q121700',\n",
       " 'Q120978',\n",
       " 'Q121011',\n",
       " 'Q120379',\n",
       " 'Q120650',\n",
       " 'Q120472',\n",
       " 'Q120194',\n",
       " 'Q120012',\n",
       " 'Q120014',\n",
       " 'Q119334',\n",
       " 'Q119851',\n",
       " 'Q119650',\n",
       " 'Q118892',\n",
       " 'Q118117',\n",
       " 'Q118232',\n",
       " 'Q118233',\n",
       " 'Q118237',\n",
       " 'Q117186',\n",
       " 'Q117193',\n",
       " 'Q116797',\n",
       " 'Q116881',\n",
       " 'Q116953',\n",
       " 'Q116601',\n",
       " 'Q116441',\n",
       " 'Q116448',\n",
       " 'Q116197',\n",
       " 'Q115602',\n",
       " 'Q115777',\n",
       " 'Q115610',\n",
       " 'Q115611',\n",
       " 'Q115899',\n",
       " 'Q115390',\n",
       " 'Q114961',\n",
       " 'Q114748',\n",
       " 'Q115195',\n",
       " 'Q114517',\n",
       " 'Q114386',\n",
       " 'Q113992',\n",
       " 'Q114152',\n",
       " 'Q113583',\n",
       " 'Q113584',\n",
       " 'Q113181',\n",
       " 'Q112478',\n",
       " 'Q112512',\n",
       " 'Q112270',\n",
       " 'Q111848',\n",
       " 'Q111580',\n",
       " 'Q111220',\n",
       " 'Q110740',\n",
       " 'Q109367',\n",
       " 'Q108950',\n",
       " 'Q109244',\n",
       " 'Q108855',\n",
       " 'Q108617',\n",
       " 'Q108856',\n",
       " 'Q108754',\n",
       " 'Q108342',\n",
       " 'Q108343',\n",
       " 'Q107869',\n",
       " 'Q107491',\n",
       " 'Q106993',\n",
       " 'Q106997',\n",
       " 'Q106272',\n",
       " 'Q106388',\n",
       " 'Q106389',\n",
       " 'Q106042',\n",
       " 'Q105840',\n",
       " 'Q105655',\n",
       " 'Q104996',\n",
       " 'Q103293',\n",
       " 'Q102906',\n",
       " 'Q102674',\n",
       " 'Q102687',\n",
       " 'Q102289',\n",
       " 'Q102089',\n",
       " 'Q101162',\n",
       " 'Q101163',\n",
       " 'Q101596',\n",
       " 'Q100689',\n",
       " 'Q100680',\n",
       " 'Q100562',\n",
       " 'Q99982',\n",
       " 'Q100010',\n",
       " 'Q99716',\n",
       " 'Q99581',\n",
       " 'Q99480',\n",
       " 'Q98869',\n",
       " 'Q98578',\n",
       " 'Q98059',\n",
       " 'Q98078',\n",
       " 'Q98197',\n",
       " 'Q96024']"
      ]
     },
     "execution_count": 5,
     "metadata": {},
     "output_type": "execute_result"
    }
   ],
   "source": [
    "features = data.column_names()\n",
    "features.remove('Party')\n",
    "target = 'Party'\n",
    "features"
   ]
  },
  {
   "cell_type": "code",
   "execution_count": 6,
   "metadata": {
    "collapsed": true
   },
   "outputs": [],
   "source": [
    "for feature in features[2:]:\n",
    "    data_one_hot_encoded = data[feature].apply(lambda x: {x: 1})    \n",
    "    data_unpacked = data_one_hot_encoded.unpack(column_name_prefix = feature)\n",
    "    \n",
    "    # Change None's to 0's\n",
    "    for column in data_unpacked.column_names():\n",
    "        data_unpacked[column] = data_unpacked[column].fillna(0)\n",
    "\n",
    "    \n",
    "    data.remove_column(feature)\n",
    "    columns = data_unpacked.column_names()\n",
    "    if columns[0] == feature + '.':\n",
    "        columns.remove(feature + '.')\n",
    "    data.add_columns(data_unpacked[columns])\n"
   ]
  },
  {
   "cell_type": "code",
   "execution_count": 7,
   "metadata": {
    "collapsed": false
   },
   "outputs": [
    {
     "name": "stdout",
     "output_type": "stream",
     "text": [
      "['YOB', 'Gender.Female', 'Gender.Male', 'Income.$100,001 - $150,000', 'Income.$25,001 - $50,000', 'Income.$50,000 - $74,999', 'Income.$75,000 - $100,000', 'Income.over $150,000', 'Income.under $25,000', 'HouseholdStatus.Domestic Partners (no kids)', 'HouseholdStatus.Domestic Partners (w/kids)', 'HouseholdStatus.Married (no kids)', 'HouseholdStatus.Married (w/kids)', 'HouseholdStatus.Single (no kids)', 'HouseholdStatus.Single (w/kids)', \"EducationLevel.Associate's Degree\", \"EducationLevel.Bachelor's Degree\", 'EducationLevel.Current K-12', 'EducationLevel.Current Undergraduate', 'EducationLevel.Doctoral Degree', 'EducationLevel.High School Diploma', \"EducationLevel.Master's Degree\", 'Q124742.No', 'Q124742.Yes', 'Q124122.No', 'Q124122.Yes', 'Q123464.No', 'Q123464.Yes', 'Q123621.No', 'Q123621.Yes', 'Q122769.No', 'Q122769.Yes', 'Q122770.No', 'Q122770.Yes', 'Q122771.Private', 'Q122771.Public', 'Q122120.No', 'Q122120.Yes', 'Q121699.No', 'Q121699.Yes', 'Q121700.No', 'Q121700.Yes', 'Q120978.No', 'Q120978.Yes', 'Q121011.No', 'Q121011.Yes', 'Q120379.No', 'Q120379.Yes', 'Q120650.No', 'Q120650.Yes', 'Q120472.Art', 'Q120472.Science', 'Q120194.Study first', 'Q120194.Try first', 'Q120012.No', 'Q120012.Yes', 'Q120014.No', 'Q120014.Yes', 'Q119334.No', 'Q119334.Yes', 'Q119851.No', 'Q119851.Yes', 'Q119650.Giving', 'Q119650.Receiving', 'Q118892.No', 'Q118892.Yes', 'Q118117.No', 'Q118117.Yes', 'Q118232.Idealist', 'Q118232.Pragmatist', 'Q118233.No', 'Q118233.Yes', 'Q118237.No', 'Q118237.Yes', 'Q117186.Cool headed', 'Q117186.Hot headed', 'Q117193.Odd hours', 'Q117193.Standard hours', 'Q116797.No', 'Q116797.Yes', 'Q116881.Happy', 'Q116881.Right', 'Q116953.No', 'Q116953.Yes', 'Q116601.No', 'Q116601.Yes', 'Q116441.No', 'Q116441.Yes', 'Q116448.No', 'Q116448.Yes', 'Q116197.A.M.', 'Q116197.P.M.', 'Q115602.No', 'Q115602.Yes', 'Q115777.End', 'Q115777.Start', 'Q115610.No', 'Q115610.Yes', 'Q115611.No', 'Q115611.Yes', 'Q115899.Circumstances', 'Q115899.Me', 'Q115390.No', 'Q115390.Yes', 'Q114961.No', 'Q114961.Yes', 'Q114748.No', 'Q114748.Yes', 'Q115195.No', 'Q115195.Yes', 'Q114517.No', 'Q114517.Yes', 'Q114386.Mysterious', 'Q114386.TMI', 'Q113992.No', 'Q113992.Yes', 'Q114152.No', 'Q114152.Yes', 'Q113583.Talk', 'Q113583.Tunes', 'Q113584.People', 'Q113584.Technology', 'Q113181.No', 'Q113181.Yes', 'Q112478.No', 'Q112478.Yes', 'Q112512.No', 'Q112512.Yes', 'Q112270.No', 'Q112270.Yes', 'Q111848.No', 'Q111848.Yes', 'Q111580.Demanding', 'Q111580.Supportive', 'Q111220.No', 'Q111220.Yes', 'Q110740.Mac', 'Q110740.PC', 'Q109367.No', 'Q109367.Yes', 'Q108950.Cautious', 'Q108950.Risk-friendly', 'Q109244.No', 'Q109244.Yes', 'Q108855.Umm...', 'Q108855.Yes!', 'Q108617.No', 'Q108617.Yes', 'Q108856.Socialize', 'Q108856.Space', 'Q108754.No', 'Q108754.Yes', 'Q108342.In-person', 'Q108342.Online', 'Q108343.No', 'Q108343.Yes', 'Q107869.No', 'Q107869.Yes', 'Q107491.No', 'Q107491.Yes', 'Q106993.No', 'Q106993.Yes', 'Q106997.Grrr people', 'Q106997.Yay people!', 'Q106272.No', 'Q106272.Yes', 'Q106388.No', 'Q106388.Yes', 'Q106389.No', 'Q106389.Yes', 'Q106042.No', 'Q106042.Yes', 'Q105840.No', 'Q105840.Yes', 'Q105655.No', 'Q105655.Yes', 'Q104996.No', 'Q104996.Yes', 'Q103293.No', 'Q103293.Yes', 'Q102906.No', 'Q102906.Yes', 'Q102674.No', 'Q102674.Yes', 'Q102687.No', 'Q102687.Yes', 'Q102289.No', 'Q102289.Yes', 'Q102089.Own', 'Q102089.Rent', 'Q101162.Optimist', 'Q101162.Pessimist', 'Q101163.Dad', 'Q101163.Mom', 'Q101596.No', 'Q101596.Yes', 'Q100689.No', 'Q100689.Yes', 'Q100680.No', 'Q100680.Yes', 'Q100562.No', 'Q100562.Yes', 'Q99982.Check!', 'Q99982.Nope', 'Q100010.No', 'Q100010.Yes', 'Q99716.No', 'Q99716.Yes', 'Q99581.No', 'Q99581.Yes', 'Q99480.No', 'Q99480.Yes', 'Q98869.No', 'Q98869.Yes', 'Q98578.No', 'Q98578.Yes', 'Q98059.Only-child', 'Q98059.Yes', 'Q98078.No', 'Q98078.Yes', 'Q98197.No', 'Q98197.Yes', 'Q96024.No', 'Q96024.Yes']\n"
     ]
    }
   ],
   "source": [
    "features = data.column_names()\n",
    "features.remove('Party')\n",
    "features.remove('USER_ID')\n",
    "#features.remove('YOB')  # Remove the response variable\n",
    "print features"
   ]
  },
  {
   "cell_type": "code",
   "execution_count": 10,
   "metadata": {
    "collapsed": false
   },
   "outputs": [],
   "source": [
    "train_data, validation_data = data.random_split(.8, seed=1)"
   ]
  },
  {
   "cell_type": "code",
   "execution_count": 13,
   "metadata": {
    "collapsed": false
   },
   "outputs": [
    {
     "data": {
      "text/html": [
       "<pre>Boosted trees classifier:</pre>"
      ],
      "text/plain": [
       "Boosted trees classifier:"
      ]
     },
     "metadata": {},
     "output_type": "display_data"
    },
    {
     "data": {
      "text/html": [
       "<pre>--------------------------------------------------------</pre>"
      ],
      "text/plain": [
       "--------------------------------------------------------"
      ]
     },
     "metadata": {},
     "output_type": "display_data"
    },
    {
     "data": {
      "text/html": [
       "<pre>Number of examples          : 4420</pre>"
      ],
      "text/plain": [
       "Number of examples          : 4420"
      ]
     },
     "metadata": {},
     "output_type": "display_data"
    },
    {
     "data": {
      "text/html": [
       "<pre>Number of classes           : 2</pre>"
      ],
      "text/plain": [
       "Number of classes           : 2"
      ]
     },
     "metadata": {},
     "output_type": "display_data"
    },
    {
     "data": {
      "text/html": [
       "<pre>Number of feature columns   : 224</pre>"
      ],
      "text/plain": [
       "Number of feature columns   : 224"
      ]
     },
     "metadata": {},
     "output_type": "display_data"
    },
    {
     "data": {
      "text/html": [
       "<pre>Number of unpacked features : 224</pre>"
      ],
      "text/plain": [
       "Number of unpacked features : 224"
      ]
     },
     "metadata": {},
     "output_type": "display_data"
    },
    {
     "data": {
      "text/html": [
       "<pre>+-----------+--------------+-------------------+-------------------+</pre>"
      ],
      "text/plain": [
       "+-----------+--------------+-------------------+-------------------+"
      ]
     },
     "metadata": {},
     "output_type": "display_data"
    },
    {
     "data": {
      "text/html": [
       "<pre>| Iteration | Elapsed Time | Training-accuracy | Training-log_loss |</pre>"
      ],
      "text/plain": [
       "| Iteration | Elapsed Time | Training-accuracy | Training-log_loss |"
      ]
     },
     "metadata": {},
     "output_type": "display_data"
    },
    {
     "data": {
      "text/html": [
       "<pre>+-----------+--------------+-------------------+-------------------+</pre>"
      ],
      "text/plain": [
       "+-----------+--------------+-------------------+-------------------+"
      ]
     },
     "metadata": {},
     "output_type": "display_data"
    },
    {
     "data": {
      "text/html": [
       "<pre>| 1         | 0.020054     | 0.653167          | 0.655187          |</pre>"
      ],
      "text/plain": [
       "| 1         | 0.020054     | 0.653167          | 0.655187          |"
      ]
     },
     "metadata": {},
     "output_type": "display_data"
    },
    {
     "data": {
      "text/html": [
       "<pre>| 2         | 0.037099     | 0.667195          | 0.629978          |</pre>"
      ],
      "text/plain": [
       "| 2         | 0.037099     | 0.667195          | 0.629978          |"
      ]
     },
     "metadata": {},
     "output_type": "display_data"
    },
    {
     "data": {
      "text/html": [
       "<pre>| 3         | 0.059157     | 0.678733          | 0.608514          |</pre>"
      ],
      "text/plain": [
       "| 3         | 0.059157     | 0.678733          | 0.608514          |"
      ]
     },
     "metadata": {},
     "output_type": "display_data"
    },
    {
     "data": {
      "text/html": [
       "<pre>| 4         | 0.076203     | 0.694570          | 0.592624          |</pre>"
      ],
      "text/plain": [
       "| 4         | 0.076203     | 0.694570          | 0.592624          |"
      ]
     },
     "metadata": {},
     "output_type": "display_data"
    },
    {
     "data": {
      "text/html": [
       "<pre>| 5         | 0.094250     | 0.710407          | 0.576019          |</pre>"
      ],
      "text/plain": [
       "| 5         | 0.094250     | 0.710407          | 0.576019          |"
      ]
     },
     "metadata": {},
     "output_type": "display_data"
    },
    {
     "data": {
      "text/html": [
       "<pre>| 6         | 0.111296     | 0.721719          | 0.560472          |</pre>"
      ],
      "text/plain": [
       "| 6         | 0.111296     | 0.721719          | 0.560472          |"
      ]
     },
     "metadata": {},
     "output_type": "display_data"
    },
    {
     "data": {
      "text/html": [
       "<pre>| 11        | 0.217579     | 0.789819          | 0.494664          |</pre>"
      ],
      "text/plain": [
       "| 11        | 0.217579     | 0.789819          | 0.494664          |"
      ]
     },
     "metadata": {},
     "output_type": "display_data"
    },
    {
     "data": {
      "text/html": [
       "<pre>+-----------+--------------+-------------------+-------------------+</pre>"
      ],
      "text/plain": [
       "+-----------+--------------+-------------------+-------------------+"
      ]
     },
     "metadata": {},
     "output_type": "display_data"
    }
   ],
   "source": [
    "model = graphlab.boosted_trees_classifier.create(train_data, validation_set = None, target = target, features = features, max_iterations = 40)"
   ]
  },
  {
   "cell_type": "code",
   "execution_count": 14,
   "metadata": {
    "collapsed": false
   },
   "outputs": [
    {
     "name": "stdout",
     "output_type": "stream",
     "text": [
      "0.629790940767\n"
     ]
    }
   ],
   "source": [
    "predictions = model.predict(validation_data)\n",
    "print sum(predictions == validation_data['Party']) / float(len(validation_data))"
   ]
  },
  {
   "cell_type": "code",
   "execution_count": 15,
   "metadata": {
    "collapsed": false
   },
   "outputs": [
    {
     "name": "stdout",
     "output_type": "stream",
     "text": [
      "0.629790940767\n"
     ]
    }
   ],
   "source": [
    "accuracy = model.evaluate(validation_data)\n",
    "print accuracy['accuracy']"
   ]
  },
  {
   "cell_type": "code",
   "execution_count": null,
   "metadata": {
    "collapsed": true
   },
   "outputs": [],
   "source": []
  }
 ],
 "metadata": {
  "kernelspec": {
   "display_name": "Python 2",
   "language": "python",
   "name": "python2"
  },
  "language_info": {
   "codemirror_mode": {
    "name": "ipython",
    "version": 2
   },
   "file_extension": ".py",
   "mimetype": "text/x-python",
   "name": "python",
   "nbconvert_exporter": "python",
   "pygments_lexer": "ipython2",
   "version": "2.7.11"
  }
 },
 "nbformat": 4,
 "nbformat_minor": 0
}
